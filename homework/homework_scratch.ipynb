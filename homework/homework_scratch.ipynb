{
 "cells": [
  {
   "cell_type": "markdown",
   "metadata": {},
   "source": [
    "# Task 1"
   ]
  },
  {
   "cell_type": "code",
   "execution_count": null,
   "metadata": {},
   "outputs": [],
   "source": [
    "# Task: Create functions using conditional statements.\n",
    "\n",
    "# 1. Define a function called is_even that takes an integer input and outputs the boolean value True if the number is even, and False otherwise."
   ]
  },
  {
   "cell_type": "code",
   "execution_count": null,
   "metadata": {},
   "outputs": [],
   "source": [
    "# 2. Define a function called max_of_two that takes two numerical inputs and outputs the maximum value.\n",
    "# Do not use a built-in function here, instead use a conditional statement."
   ]
  },
  {
   "cell_type": "code",
   "execution_count": null,
   "metadata": {},
   "outputs": [],
   "source": [
    "# 3. Define a function called is_vowel that takes a single character and outputs the boolean value True if the character is a vowel (a, e, i, o, u), and False otherwise."
   ]
  },
  {
   "cell_type": "code",
   "execution_count": null,
   "metadata": {},
   "outputs": [],
   "source": [
    "# 4. Define a function called sign_of_number that takes a number and outputs the sign of the number as a string.\n",
    "# The options for the sign of a number are Positive, Negative, and Zero (note capitalization of the first character)."
   ]
  },
  {
   "cell_type": "markdown",
   "metadata": {},
   "source": [
    "# Task 2"
   ]
  },
  {
   "cell_type": "code",
   "execution_count": null,
   "metadata": {},
   "outputs": [],
   "source": [
    "# Task: Create functions using for loops.\n",
    "\n",
    "# 1. Define a function called product_list that takes a list of numbers as input and outputs the product of all the numbers in the list."
   ]
  },
  {
   "cell_type": "code",
   "execution_count": null,
   "metadata": {},
   "outputs": [],
   "source": [
    "# 2. Define a function called sum_of_squares that takes a positive integer n as input and outputs the sum of the squares of all numbers from 1 to n."
   ]
  },
  {
   "cell_type": "code",
   "execution_count": null,
   "metadata": {},
   "outputs": [],
   "source": [
    "# 3. Define a function called factorial that takes a positive integer n as input and outputs the factorial of n."
   ]
  },
  {
   "cell_type": "code",
   "execution_count": null,
   "metadata": {},
   "outputs": [],
   "source": [
    "# 4. Define a function called arithmetic_series that takes three integers, a, d, and n, and outputs the sum of the first n terms of the arithmetic series with initial term a and common difference d."
   ]
  },
  {
   "cell_type": "code",
   "execution_count": null,
   "metadata": {},
   "outputs": [],
   "source": [
    "# 5. Define a function called geometric_series that takes three integers, a, r, and n, and outputs the sum of the first n terms of the geometric series with initial term a and common ratio r."
   ]
  },
  {
   "cell_type": "markdown",
   "metadata": {},
   "source": [
    "# Task 3"
   ]
  },
  {
   "cell_type": "code",
   "execution_count": null,
   "metadata": {},
   "outputs": [],
   "source": [
    "# Task: Create functions that approximate mathematical functions using their Maclaurin series and while loops.\n",
    "\n",
    "# 1. Define a function called approximate_euler_number that takes a tolerance tol as input and outputs the\n",
    "# approximate value of Euler's number e using the Maclaurin series of e^x."
   ]
  },
  {
   "cell_type": "code",
   "execution_count": null,
   "metadata": {},
   "outputs": [],
   "source": [
    "# 2. Define a function called approximate_ln that takes a number x (0 < x <= 2) and a tolerance tol as input\n",
    "# and outputs the approximate natural logarithm of x using the Maclaurin series of ln(x)."
   ]
  },
  {
   "cell_type": "code",
   "execution_count": null,
   "metadata": {},
   "outputs": [],
   "source": [
    "# 3. Define a function called approximate_cos that takes a number x and a tolerance tol as input and outputs\n",
    "# the approximate value of cos(x) using the Maclaurin series of cos(x)."
   ]
  },
  {
   "cell_type": "markdown",
   "metadata": {},
   "source": [
    "# Task 4"
   ]
  },
  {
   "cell_type": "code",
   "execution_count": null,
   "metadata": {},
   "outputs": [],
   "source": [
    "# Task: Create functions using combinations of conditional statements, for loops, and while loops.\n",
    "\n",
    "# 1. Define a function called is_prime that takes an integer input and outputs the boolean value True if the number is prime,\n",
    "# and False otherwise. To check if a number is prime, we only need to test if it is divisible by primes whose squares are less\n",
    "# than or equal to the number we are testing."
   ]
  },
  {
   "cell_type": "code",
   "execution_count": null,
   "metadata": {},
   "outputs": [],
   "source": [
    "# 2. Define a function called fibonacci that takes a positive integer n and outputs the nth Fibonacci number."
   ]
  },
  {
   "cell_type": "code",
   "execution_count": null,
   "metadata": {},
   "outputs": [],
   "source": [
    "# 3. Define a function called prime_fibonacci that takes a positive integer n and outputs a list of the first n prime Fibonacci numbers.\n",
    "# This function should call the previous two functions within it."
   ]
  }
 ],
 "metadata": {
  "language_info": {
   "name": "python"
  }
 },
 "nbformat": 4,
 "nbformat_minor": 2
}
